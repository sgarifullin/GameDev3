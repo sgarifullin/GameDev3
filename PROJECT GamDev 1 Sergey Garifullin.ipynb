{
 "cells": [
  {
   "attachments": {},
   "cell_type": "markdown",
   "metadata": {},
   "source": [
    "Исследование поведения пользователей в приложении и в рамках которого ответить на два вопроса:\n",
    "\n",
    "1. Зависит ли вероятность оплаты от выбранного пользователем уровня сложности?\n",
    "2. Существует ли разница во времени между событиями регистрации и оплаты для разных групп пользователей с разным уровнем сложности?\n",
    "\n",
    "ЗАДАНИЕ\n",
    "Необходимо проверить:\n",
    "- есть ли зависимость между выбранным уровнем сложности и вероятностью оплаты;\n",
    "- различается ли временной промежуток между регистрацией и оплатой у групп пользователей с разным уровнем сложности.\n",
    "\n",
    "Важно! Выполнять задание необходимо на основе данных пользователей, которые зарегистрировались в 2018 году (с 1 января по 31 декабря 2018 года включительно)."
   ]
  },
  {
   "cell_type": "code",
   "execution_count": 3,
   "metadata": {},
   "outputs": [],
   "source": [
    "import pandas as pd\n",
    "\n",
    "# Загрузка всех файлов проекта и создание их копий для дальнейших преобразований\n",
    "\n",
    "event = pd.read_csv('7_4_Events.csv')\n",
    "events_df = event.copy()\n"
   ]
  },
  {
   "attachments": {},
   "cell_type": "markdown",
   "metadata": {},
   "source": [
    "Проверка файла events_df"
   ]
  },
  {
   "cell_type": "code",
   "execution_count": 5,
   "metadata": {},
   "outputs": [
    {
     "data": {
      "text/html": [
       "<div>\n",
       "<style scoped>\n",
       "    .dataframe tbody tr th:only-of-type {\n",
       "        vertical-align: middle;\n",
       "    }\n",
       "\n",
       "    .dataframe tbody tr th {\n",
       "        vertical-align: top;\n",
       "    }\n",
       "\n",
       "    .dataframe thead th {\n",
       "        text-align: right;\n",
       "    }\n",
       "</style>\n",
       "<table border=\"1\" class=\"dataframe\">\n",
       "  <thead>\n",
       "    <tr style=\"text-align: right;\">\n",
       "      <th></th>\n",
       "      <th>id</th>\n",
       "      <th>event_type</th>\n",
       "      <th>selected_level</th>\n",
       "      <th>start_time</th>\n",
       "      <th>tutorial_id</th>\n",
       "      <th>user_id</th>\n",
       "    </tr>\n",
       "  </thead>\n",
       "  <tbody>\n",
       "    <tr>\n",
       "      <th>0</th>\n",
       "      <td>28903</td>\n",
       "      <td>registration</td>\n",
       "      <td>NaN</td>\n",
       "      <td>2016-05-11T23:40:55</td>\n",
       "      <td>NaN</td>\n",
       "      <td>12583</td>\n",
       "    </tr>\n",
       "    <tr>\n",
       "      <th>1</th>\n",
       "      <td>28904</td>\n",
       "      <td>registration</td>\n",
       "      <td>NaN</td>\n",
       "      <td>2016-05-11T23:49:58</td>\n",
       "      <td>NaN</td>\n",
       "      <td>12584</td>\n",
       "    </tr>\n",
       "    <tr>\n",
       "      <th>2</th>\n",
       "      <td>28905</td>\n",
       "      <td>registration</td>\n",
       "      <td>NaN</td>\n",
       "      <td>2016-05-12T00:53:07</td>\n",
       "      <td>NaN</td>\n",
       "      <td>12585</td>\n",
       "    </tr>\n",
       "    <tr>\n",
       "      <th>3</th>\n",
       "      <td>28906</td>\n",
       "      <td>tutorial_start</td>\n",
       "      <td>NaN</td>\n",
       "      <td>2016-05-12T01:32:20</td>\n",
       "      <td>17562.0</td>\n",
       "      <td>12585</td>\n",
       "    </tr>\n",
       "    <tr>\n",
       "      <th>4</th>\n",
       "      <td>28907</td>\n",
       "      <td>tutorial_finish</td>\n",
       "      <td>NaN</td>\n",
       "      <td>2016-05-12T01:34:53</td>\n",
       "      <td>17562.0</td>\n",
       "      <td>12585</td>\n",
       "    </tr>\n",
       "    <tr>\n",
       "      <th>5</th>\n",
       "      <td>28908</td>\n",
       "      <td>tutorial_start</td>\n",
       "      <td>NaN</td>\n",
       "      <td>2016-05-12T02:11:29</td>\n",
       "      <td>17563.0</td>\n",
       "      <td>12584</td>\n",
       "    </tr>\n",
       "    <tr>\n",
       "      <th>6</th>\n",
       "      <td>28909</td>\n",
       "      <td>tutorial_finish</td>\n",
       "      <td>NaN</td>\n",
       "      <td>2016-05-12T02:14:14</td>\n",
       "      <td>17563.0</td>\n",
       "      <td>12584</td>\n",
       "    </tr>\n",
       "    <tr>\n",
       "      <th>7</th>\n",
       "      <td>28910</td>\n",
       "      <td>level_choice</td>\n",
       "      <td>hard</td>\n",
       "      <td>2016-05-12T05:30:25</td>\n",
       "      <td>NaN</td>\n",
       "      <td>12584</td>\n",
       "    </tr>\n",
       "    <tr>\n",
       "      <th>8</th>\n",
       "      <td>28911</td>\n",
       "      <td>pack_choice</td>\n",
       "      <td>NaN</td>\n",
       "      <td>2016-05-12T05:38:24</td>\n",
       "      <td>NaN</td>\n",
       "      <td>12584</td>\n",
       "    </tr>\n",
       "    <tr>\n",
       "      <th>9</th>\n",
       "      <td>28912</td>\n",
       "      <td>tutorial_start</td>\n",
       "      <td>NaN</td>\n",
       "      <td>2016-05-12T07:19:01</td>\n",
       "      <td>17564.0</td>\n",
       "      <td>12583</td>\n",
       "    </tr>\n",
       "  </tbody>\n",
       "</table>\n",
       "</div>"
      ],
      "text/plain": [
       "      id       event_type selected_level           start_time  tutorial_id  \\\n",
       "0  28903     registration            NaN  2016-05-11T23:40:55          NaN   \n",
       "1  28904     registration            NaN  2016-05-11T23:49:58          NaN   \n",
       "2  28905     registration            NaN  2016-05-12T00:53:07          NaN   \n",
       "3  28906   tutorial_start            NaN  2016-05-12T01:32:20      17562.0   \n",
       "4  28907  tutorial_finish            NaN  2016-05-12T01:34:53      17562.0   \n",
       "5  28908   tutorial_start            NaN  2016-05-12T02:11:29      17563.0   \n",
       "6  28909  tutorial_finish            NaN  2016-05-12T02:14:14      17563.0   \n",
       "7  28910     level_choice           hard  2016-05-12T05:30:25          NaN   \n",
       "8  28911      pack_choice            NaN  2016-05-12T05:38:24          NaN   \n",
       "9  28912   tutorial_start            NaN  2016-05-12T07:19:01      17564.0   \n",
       "\n",
       "   user_id  \n",
       "0    12583  \n",
       "1    12584  \n",
       "2    12585  \n",
       "3    12585  \n",
       "4    12585  \n",
       "5    12584  \n",
       "6    12584  \n",
       "7    12584  \n",
       "8    12584  \n",
       "9    12583  "
      ]
     },
     "execution_count": 5,
     "metadata": {},
     "output_type": "execute_result"
    }
   ],
   "source": [
    "# Обзор таблицы events_df\n",
    "events_df.head(10)"
   ]
  },
  {
   "cell_type": "code",
   "execution_count": 6,
   "metadata": {},
   "outputs": [
    {
     "name": "stdout",
     "output_type": "stream",
     "text": [
      "<class 'pandas.core.frame.DataFrame'>\n",
      "RangeIndex: 252334 entries, 0 to 252333\n",
      "Data columns (total 6 columns):\n",
      " #   Column          Non-Null Count   Dtype  \n",
      "---  ------          --------------   -----  \n",
      " 0   id              252334 non-null  int64  \n",
      " 1   event_type      252334 non-null  object \n",
      " 2   selected_level  31086 non-null   object \n",
      " 3   start_time      252334 non-null  object \n",
      " 4   tutorial_id     125103 non-null  float64\n",
      " 5   user_id         252334 non-null  int64  \n",
      "dtypes: float64(1), int64(2), object(3)\n",
      "memory usage: 11.6+ MB\n"
     ]
    }
   ],
   "source": [
    "# Информация о столбцах events_df\n",
    "events_df.info()"
   ]
  },
  {
   "cell_type": "code",
   "execution_count": 7,
   "metadata": {},
   "outputs": [
    {
     "name": "stdout",
     "output_type": "stream",
     "text": [
      "<class 'pandas.core.frame.DataFrame'>\n",
      "RangeIndex: 252334 entries, 0 to 252333\n",
      "Data columns (total 6 columns):\n",
      " #   Column          Non-Null Count   Dtype         \n",
      "---  ------          --------------   -----         \n",
      " 0   id              252334 non-null  int64         \n",
      " 1   event_type      252334 non-null  object        \n",
      " 2   selected_level  31086 non-null   object        \n",
      " 3   start_time      252201 non-null  datetime64[ns]\n",
      " 4   tutorial_id     125103 non-null  float64       \n",
      " 5   user_id         252334 non-null  int64         \n",
      "dtypes: datetime64[ns](1), float64(1), int64(2), object(2)\n",
      "memory usage: 11.6+ MB\n"
     ]
    }
   ],
   "source": [
    "# Перевод столбца start_time в формат дат\n",
    "\n",
    "events_df['start_time'] = pd.to_datetime(events_df['start_time'], errors='coerce')\n",
    "\n",
    "# Проверка перобразования\n",
    "events_df.info()"
   ]
  },
  {
   "attachments": {},
   "cell_type": "markdown",
   "metadata": {},
   "source": [
    "Выполнять задание необходимо на основе данных пользователей, которые зарегистрировались в 2018 году (с 1 января по 31 декабря 2018 года включительно)."
   ]
  },
  {
   "cell_type": "code",
   "execution_count": 8,
   "metadata": {},
   "outputs": [],
   "source": [
    "# Маска по пользователям зарегестрированным в 2018 г.\n",
    "\n",
    "mask2018 = (events_df['start_time'] < '2019-01-01') & (events_df['start_time'] >= '2018-01-01') & (events_df['event_type'] == 'registration')\n",
    "\n",
    "# Фильтрация таблийы с данными пользователей зарегестрированными в 2018 г.\n",
    "user_list = list(events_df[mask2018]['user_id'])\n",
    "events_df = events_df[events_df['user_id'].isin(user_list)]"
   ]
  },
  {
   "cell_type": "code",
   "execution_count": 9,
   "metadata": {},
   "outputs": [
    {
     "data": {
      "text/plain": [
       "array(['registration', 'tutorial_start', 'tutorial_finish',\n",
       "       'level_choice', 'pack_choice'], dtype=object)"
      ]
     },
     "execution_count": 9,
     "metadata": {},
     "output_type": "execute_result"
    }
   ],
   "source": [
    "# Уникальные события в стобце event_type\n",
    "events_df['event_type'].unique()"
   ]
  },
  {
   "attachments": {},
   "cell_type": "markdown",
   "metadata": {},
   "source": [
    "Проверка файла purchase_df"
   ]
  },
  {
   "cell_type": "code",
   "execution_count": 10,
   "metadata": {},
   "outputs": [],
   "source": [
    "# Загрузка файла проекта и создание его копии для дальнейших преобразований\n",
    "\n",
    "purchase = pd.read_csv('purchase.csv')\n",
    "purchase_df = purchase.copy()"
   ]
  },
  {
   "cell_type": "code",
   "execution_count": 11,
   "metadata": {},
   "outputs": [
    {
     "data": {
      "text/html": [
       "<div>\n",
       "<style scoped>\n",
       "    .dataframe tbody tr th:only-of-type {\n",
       "        vertical-align: middle;\n",
       "    }\n",
       "\n",
       "    .dataframe tbody tr th {\n",
       "        vertical-align: top;\n",
       "    }\n",
       "\n",
       "    .dataframe thead th {\n",
       "        text-align: right;\n",
       "    }\n",
       "</style>\n",
       "<table border=\"1\" class=\"dataframe\">\n",
       "  <thead>\n",
       "    <tr style=\"text-align: right;\">\n",
       "      <th></th>\n",
       "      <th>id</th>\n",
       "      <th>user_id</th>\n",
       "      <th>event_datetime</th>\n",
       "      <th>amount</th>\n",
       "    </tr>\n",
       "  </thead>\n",
       "  <tbody>\n",
       "    <tr>\n",
       "      <th>0</th>\n",
       "      <td>15674</td>\n",
       "      <td>12584</td>\n",
       "      <td>2016-05-12T10:34:16</td>\n",
       "      <td>100</td>\n",
       "    </tr>\n",
       "    <tr>\n",
       "      <th>1</th>\n",
       "      <td>15675</td>\n",
       "      <td>12985</td>\n",
       "      <td>2016-05-13T08:25:56</td>\n",
       "      <td>50</td>\n",
       "    </tr>\n",
       "    <tr>\n",
       "      <th>2</th>\n",
       "      <td>15676</td>\n",
       "      <td>12828</td>\n",
       "      <td>2016-05-13T16:33:46</td>\n",
       "      <td>50</td>\n",
       "    </tr>\n",
       "    <tr>\n",
       "      <th>3</th>\n",
       "      <td>15677</td>\n",
       "      <td>12598</td>\n",
       "      <td>2016-05-14T01:09:37</td>\n",
       "      <td>150</td>\n",
       "    </tr>\n",
       "    <tr>\n",
       "      <th>4</th>\n",
       "      <td>15678</td>\n",
       "      <td>13037</td>\n",
       "      <td>2016-05-14T01:24:46</td>\n",
       "      <td>100</td>\n",
       "    </tr>\n",
       "    <tr>\n",
       "      <th>5</th>\n",
       "      <td>15679</td>\n",
       "      <td>12989</td>\n",
       "      <td>2016-05-14T02:19:20</td>\n",
       "      <td>200</td>\n",
       "    </tr>\n",
       "    <tr>\n",
       "      <th>6</th>\n",
       "      <td>15680</td>\n",
       "      <td>12684</td>\n",
       "      <td>2016-05-14T03:10:14</td>\n",
       "      <td>100</td>\n",
       "    </tr>\n",
       "    <tr>\n",
       "      <th>7</th>\n",
       "      <td>15681</td>\n",
       "      <td>12656</td>\n",
       "      <td>2016-05-14T03:42:48</td>\n",
       "      <td>100</td>\n",
       "    </tr>\n",
       "    <tr>\n",
       "      <th>8</th>\n",
       "      <td>15682</td>\n",
       "      <td>12624</td>\n",
       "      <td>2016-05-14T06:00:45</td>\n",
       "      <td>50</td>\n",
       "    </tr>\n",
       "    <tr>\n",
       "      <th>9</th>\n",
       "      <td>15683</td>\n",
       "      <td>13136</td>\n",
       "      <td>2016-05-14T07:31:03</td>\n",
       "      <td>50</td>\n",
       "    </tr>\n",
       "  </tbody>\n",
       "</table>\n",
       "</div>"
      ],
      "text/plain": [
       "      id  user_id       event_datetime  amount\n",
       "0  15674    12584  2016-05-12T10:34:16     100\n",
       "1  15675    12985  2016-05-13T08:25:56      50\n",
       "2  15676    12828  2016-05-13T16:33:46      50\n",
       "3  15677    12598  2016-05-14T01:09:37     150\n",
       "4  15678    13037  2016-05-14T01:24:46     100\n",
       "5  15679    12989  2016-05-14T02:19:20     200\n",
       "6  15680    12684  2016-05-14T03:10:14     100\n",
       "7  15681    12656  2016-05-14T03:42:48     100\n",
       "8  15682    12624  2016-05-14T06:00:45      50\n",
       "9  15683    13136  2016-05-14T07:31:03      50"
      ]
     },
     "execution_count": 11,
     "metadata": {},
     "output_type": "execute_result"
    }
   ],
   "source": [
    "purchase_df.head(10)"
   ]
  },
  {
   "cell_type": "code",
   "execution_count": 12,
   "metadata": {},
   "outputs": [
    {
     "name": "stdout",
     "output_type": "stream",
     "text": [
      "<class 'pandas.core.frame.DataFrame'>\n",
      "RangeIndex: 5956 entries, 0 to 5955\n",
      "Data columns (total 4 columns):\n",
      " #   Column          Non-Null Count  Dtype \n",
      "---  ------          --------------  ----- \n",
      " 0   id              5956 non-null   int64 \n",
      " 1   user_id         5956 non-null   int64 \n",
      " 2   event_datetime  5956 non-null   object\n",
      " 3   amount          5956 non-null   int64 \n",
      "dtypes: int64(3), object(1)\n",
      "memory usage: 186.2+ KB\n"
     ]
    }
   ],
   "source": [
    "# Информация по столбцам таблицы purchase_df\n",
    "purchase_df.info()"
   ]
  },
  {
   "cell_type": "code",
   "execution_count": 13,
   "metadata": {},
   "outputs": [],
   "source": [
    "# Столбик event_datetime в формат дат\n",
    "\n",
    "purchase_df['event_datetime'] = pd.to_datetime(purchase_df['event_datetime'])"
   ]
  },
  {
   "cell_type": "code",
   "execution_count": 14,
   "metadata": {},
   "outputs": [],
   "source": [
    "# Фильтрация по purchase_df по списку пользователей зарегестрированх в 2018 г.\n",
    "purchase_df = purchase_df[purchase_df['user_id'].isin(user_list)]"
   ]
  },
  {
   "cell_type": "code",
   "execution_count": 15,
   "metadata": {},
   "outputs": [
    {
     "name": "stdout",
     "output_type": "stream",
     "text": [
      "<class 'pandas.core.frame.DataFrame'>\n",
      "Int64Index: 1600 entries, 1171 to 2778\n",
      "Data columns (total 4 columns):\n",
      " #   Column          Non-Null Count  Dtype         \n",
      "---  ------          --------------  -----         \n",
      " 0   id              1600 non-null   int64         \n",
      " 1   user_id         1600 non-null   int64         \n",
      " 2   event_datetime  1600 non-null   datetime64[ns]\n",
      " 3   amount          1600 non-null   int64         \n",
      "dtypes: datetime64[ns](1), int64(3)\n",
      "memory usage: 62.5 KB\n"
     ]
    }
   ],
   "source": [
    "# Проверка преобразования\n",
    "purchase_df.info()"
   ]
  },
  {
   "attachments": {},
   "cell_type": "markdown",
   "metadata": {},
   "source": [
    "ОБЪЕДИНЕНИЕ ДАТАФРЕМОВ"
   ]
  },
  {
   "cell_type": "code",
   "execution_count": 16,
   "metadata": {},
   "outputs": [],
   "source": [
    "total_events_df = pd.concat([events_df,purchase_df],sort=False)"
   ]
  },
  {
   "cell_type": "code",
   "execution_count": 17,
   "metadata": {},
   "outputs": [
    {
     "data": {
      "text/html": [
       "<div>\n",
       "<style scoped>\n",
       "    .dataframe tbody tr th:only-of-type {\n",
       "        vertical-align: middle;\n",
       "    }\n",
       "\n",
       "    .dataframe tbody tr th {\n",
       "        vertical-align: top;\n",
       "    }\n",
       "\n",
       "    .dataframe thead th {\n",
       "        text-align: right;\n",
       "    }\n",
       "</style>\n",
       "<table border=\"1\" class=\"dataframe\">\n",
       "  <thead>\n",
       "    <tr style=\"text-align: right;\">\n",
       "      <th></th>\n",
       "      <th>id</th>\n",
       "      <th>event_type</th>\n",
       "      <th>selected_level</th>\n",
       "      <th>start_time</th>\n",
       "      <th>tutorial_id</th>\n",
       "      <th>user_id</th>\n",
       "      <th>event_datetime</th>\n",
       "      <th>amount</th>\n",
       "    </tr>\n",
       "  </thead>\n",
       "  <tbody>\n",
       "    <tr>\n",
       "      <th>51405</th>\n",
       "      <td>80308</td>\n",
       "      <td>registration</td>\n",
       "      <td>NaN</td>\n",
       "      <td>2018-01-01 03:48:40</td>\n",
       "      <td>NaN</td>\n",
       "      <td>27832</td>\n",
       "      <td>NaT</td>\n",
       "      <td>NaN</td>\n",
       "    </tr>\n",
       "    <tr>\n",
       "      <th>51406</th>\n",
       "      <td>80309</td>\n",
       "      <td>registration</td>\n",
       "      <td>NaN</td>\n",
       "      <td>2018-01-01 04:07:25</td>\n",
       "      <td>NaN</td>\n",
       "      <td>27833</td>\n",
       "      <td>NaT</td>\n",
       "      <td>NaN</td>\n",
       "    </tr>\n",
       "    <tr>\n",
       "      <th>51407</th>\n",
       "      <td>80310</td>\n",
       "      <td>registration</td>\n",
       "      <td>NaN</td>\n",
       "      <td>2018-01-01 08:35:10</td>\n",
       "      <td>NaN</td>\n",
       "      <td>27834</td>\n",
       "      <td>NaT</td>\n",
       "      <td>NaN</td>\n",
       "    </tr>\n",
       "    <tr>\n",
       "      <th>51408</th>\n",
       "      <td>80311</td>\n",
       "      <td>registration</td>\n",
       "      <td>NaN</td>\n",
       "      <td>2018-01-01 11:54:47</td>\n",
       "      <td>NaN</td>\n",
       "      <td>27835</td>\n",
       "      <td>NaT</td>\n",
       "      <td>NaN</td>\n",
       "    </tr>\n",
       "    <tr>\n",
       "      <th>51409</th>\n",
       "      <td>80312</td>\n",
       "      <td>registration</td>\n",
       "      <td>NaN</td>\n",
       "      <td>2018-01-01 13:28:07</td>\n",
       "      <td>NaN</td>\n",
       "      <td>27836</td>\n",
       "      <td>NaT</td>\n",
       "      <td>NaN</td>\n",
       "    </tr>\n",
       "    <tr>\n",
       "      <th>51410</th>\n",
       "      <td>80313</td>\n",
       "      <td>registration</td>\n",
       "      <td>NaN</td>\n",
       "      <td>2018-01-01 14:08:40</td>\n",
       "      <td>NaN</td>\n",
       "      <td>27837</td>\n",
       "      <td>NaT</td>\n",
       "      <td>NaN</td>\n",
       "    </tr>\n",
       "    <tr>\n",
       "      <th>51411</th>\n",
       "      <td>80314</td>\n",
       "      <td>registration</td>\n",
       "      <td>NaN</td>\n",
       "      <td>2018-01-01 14:42:58</td>\n",
       "      <td>NaN</td>\n",
       "      <td>27838</td>\n",
       "      <td>NaT</td>\n",
       "      <td>NaN</td>\n",
       "    </tr>\n",
       "    <tr>\n",
       "      <th>51412</th>\n",
       "      <td>80315</td>\n",
       "      <td>tutorial_start</td>\n",
       "      <td>NaN</td>\n",
       "      <td>2018-01-01 14:54:40</td>\n",
       "      <td>31505.0</td>\n",
       "      <td>27836</td>\n",
       "      <td>NaT</td>\n",
       "      <td>NaN</td>\n",
       "    </tr>\n",
       "    <tr>\n",
       "      <th>51413</th>\n",
       "      <td>80316</td>\n",
       "      <td>tutorial_start</td>\n",
       "      <td>NaN</td>\n",
       "      <td>2018-01-01 15:00:51</td>\n",
       "      <td>31506.0</td>\n",
       "      <td>27835</td>\n",
       "      <td>NaT</td>\n",
       "      <td>NaN</td>\n",
       "    </tr>\n",
       "    <tr>\n",
       "      <th>51414</th>\n",
       "      <td>80317</td>\n",
       "      <td>tutorial_finish</td>\n",
       "      <td>NaN</td>\n",
       "      <td>2018-01-01 15:06:15</td>\n",
       "      <td>31506.0</td>\n",
       "      <td>27835</td>\n",
       "      <td>NaT</td>\n",
       "      <td>NaN</td>\n",
       "    </tr>\n",
       "  </tbody>\n",
       "</table>\n",
       "</div>"
      ],
      "text/plain": [
       "          id       event_type selected_level          start_time  tutorial_id  \\\n",
       "51405  80308     registration            NaN 2018-01-01 03:48:40          NaN   \n",
       "51406  80309     registration            NaN 2018-01-01 04:07:25          NaN   \n",
       "51407  80310     registration            NaN 2018-01-01 08:35:10          NaN   \n",
       "51408  80311     registration            NaN 2018-01-01 11:54:47          NaN   \n",
       "51409  80312     registration            NaN 2018-01-01 13:28:07          NaN   \n",
       "51410  80313     registration            NaN 2018-01-01 14:08:40          NaN   \n",
       "51411  80314     registration            NaN 2018-01-01 14:42:58          NaN   \n",
       "51412  80315   tutorial_start            NaN 2018-01-01 14:54:40      31505.0   \n",
       "51413  80316   tutorial_start            NaN 2018-01-01 15:00:51      31506.0   \n",
       "51414  80317  tutorial_finish            NaN 2018-01-01 15:06:15      31506.0   \n",
       "\n",
       "       user_id event_datetime  amount  \n",
       "51405    27832            NaT     NaN  \n",
       "51406    27833            NaT     NaN  \n",
       "51407    27834            NaT     NaN  \n",
       "51408    27835            NaT     NaN  \n",
       "51409    27836            NaT     NaN  \n",
       "51410    27837            NaT     NaN  \n",
       "51411    27838            NaT     NaN  \n",
       "51412    27836            NaT     NaN  \n",
       "51413    27835            NaT     NaN  \n",
       "51414    27835            NaT     NaN  "
      ]
     },
     "execution_count": 17,
     "metadata": {},
     "output_type": "execute_result"
    }
   ],
   "source": [
    "total_events_df.head(10)"
   ]
  },
  {
   "cell_type": "code",
   "execution_count": 18,
   "metadata": {},
   "outputs": [
    {
     "name": "stdout",
     "output_type": "stream",
     "text": [
      "<class 'pandas.core.frame.DataFrame'>\n",
      "Int64Index: 68559 entries, 51405 to 2778\n",
      "Data columns (total 8 columns):\n",
      " #   Column          Non-Null Count  Dtype         \n",
      "---  ------          --------------  -----         \n",
      " 0   id              68559 non-null  int64         \n",
      " 1   event_type      66959 non-null  object        \n",
      " 2   selected_level  8342 non-null   object        \n",
      " 3   start_time      66959 non-null  datetime64[ns]\n",
      " 4   tutorial_id     32954 non-null  float64       \n",
      " 5   user_id         68559 non-null  int64         \n",
      " 6   event_datetime  1600 non-null   datetime64[ns]\n",
      " 7   amount          1600 non-null   float64       \n",
      "dtypes: datetime64[ns](2), float64(2), int64(2), object(2)\n",
      "memory usage: 4.7+ MB\n"
     ]
    }
   ],
   "source": [
    "total_events_df.info()"
   ]
  },
  {
   "cell_type": "code",
   "execution_count": 19,
   "metadata": {},
   "outputs": [],
   "source": [
    "# Сброс индексов (что бы не было дуюликатов)\n",
    "total_events_df = total_events_df.reset_index(drop=True).sort_values('start_time')"
   ]
  },
  {
   "attachments": {},
   "cell_type": "markdown",
   "metadata": {},
   "source": [
    "ОПРЕДЕЛЕНИЕ ГРУПП ПОЛЬЗОВАТЕЛЕЙ ПО ВЫБРАНОМУ УРОВНЮ СЛОЖНОСТИ"
   ]
  },
  {
   "cell_type": "code",
   "execution_count": 20,
   "metadata": {},
   "outputs": [
    {
     "data": {
      "text/plain": [
       "array([nan, 'medium', 'hard', 'easy'], dtype=object)"
      ]
     },
     "metadata": {},
     "output_type": "display_data"
    },
    {
     "data": {
      "text/plain": [
       "registration       19926\n",
       "tutorial_start     18050\n",
       "tutorial_finish    14904\n",
       "level_choice        8342\n",
       "pack_choice         5737\n",
       "Name: event_type, dtype: int64"
      ]
     },
     "metadata": {},
     "output_type": "display_data"
    },
    {
     "data": {
      "text/plain": [
       "medium    4645\n",
       "easy      2448\n",
       "hard      1249\n",
       "Name: selected_level, dtype: int64"
      ]
     },
     "metadata": {},
     "output_type": "display_data"
    }
   ],
   "source": [
    "# Определим типы уровней сложности и типы событий\n",
    "display(total_events_df['selected_level'].unique())\n",
    "display(total_events_df['event_type'].value_counts())\n",
    "display(total_events_df['selected_level'].value_counts())"
   ]
  },
  {
   "cell_type": "code",
   "execution_count": 21,
   "metadata": {},
   "outputs": [
    {
     "data": {
      "text/html": [
       "<div>\n",
       "<style scoped>\n",
       "    .dataframe tbody tr th:only-of-type {\n",
       "        vertical-align: middle;\n",
       "    }\n",
       "\n",
       "    .dataframe tbody tr th {\n",
       "        vertical-align: top;\n",
       "    }\n",
       "\n",
       "    .dataframe thead th {\n",
       "        text-align: right;\n",
       "    }\n",
       "</style>\n",
       "<table border=\"1\" class=\"dataframe\">\n",
       "  <thead>\n",
       "    <tr style=\"text-align: right;\">\n",
       "      <th></th>\n",
       "      <th>id</th>\n",
       "      <th>event_type</th>\n",
       "      <th>selected_level</th>\n",
       "      <th>start_time</th>\n",
       "      <th>tutorial_id</th>\n",
       "      <th>user_id</th>\n",
       "      <th>event_datetime</th>\n",
       "      <th>amount</th>\n",
       "    </tr>\n",
       "  </thead>\n",
       "  <tbody>\n",
       "    <tr>\n",
       "      <th>19</th>\n",
       "      <td>80327</td>\n",
       "      <td>level_choice</td>\n",
       "      <td>medium</td>\n",
       "      <td>2018-01-01 20:37:22</td>\n",
       "      <td>NaN</td>\n",
       "      <td>27835</td>\n",
       "      <td>NaT</td>\n",
       "      <td>NaN</td>\n",
       "    </tr>\n",
       "    <tr>\n",
       "      <th>23</th>\n",
       "      <td>80331</td>\n",
       "      <td>level_choice</td>\n",
       "      <td>hard</td>\n",
       "      <td>2018-01-01 22:37:50</td>\n",
       "      <td>NaN</td>\n",
       "      <td>27839</td>\n",
       "      <td>NaT</td>\n",
       "      <td>NaN</td>\n",
       "    </tr>\n",
       "    <tr>\n",
       "      <th>36</th>\n",
       "      <td>80344</td>\n",
       "      <td>level_choice</td>\n",
       "      <td>medium</td>\n",
       "      <td>2018-01-02 05:18:42</td>\n",
       "      <td>NaN</td>\n",
       "      <td>27840</td>\n",
       "      <td>NaT</td>\n",
       "      <td>NaN</td>\n",
       "    </tr>\n",
       "    <tr>\n",
       "      <th>38</th>\n",
       "      <td>80346</td>\n",
       "      <td>level_choice</td>\n",
       "      <td>hard</td>\n",
       "      <td>2018-01-02 06:19:18</td>\n",
       "      <td>NaN</td>\n",
       "      <td>27845</td>\n",
       "      <td>NaT</td>\n",
       "      <td>NaN</td>\n",
       "    </tr>\n",
       "    <tr>\n",
       "      <th>45</th>\n",
       "      <td>80353</td>\n",
       "      <td>level_choice</td>\n",
       "      <td>easy</td>\n",
       "      <td>2018-01-02 08:46:03</td>\n",
       "      <td>NaN</td>\n",
       "      <td>27842</td>\n",
       "      <td>NaT</td>\n",
       "      <td>NaN</td>\n",
       "    </tr>\n",
       "  </tbody>\n",
       "</table>\n",
       "</div>"
      ],
      "text/plain": [
       "       id    event_type selected_level          start_time  tutorial_id  \\\n",
       "19  80327  level_choice         medium 2018-01-01 20:37:22          NaN   \n",
       "23  80331  level_choice           hard 2018-01-01 22:37:50          NaN   \n",
       "36  80344  level_choice         medium 2018-01-02 05:18:42          NaN   \n",
       "38  80346  level_choice           hard 2018-01-02 06:19:18          NaN   \n",
       "45  80353  level_choice           easy 2018-01-02 08:46:03          NaN   \n",
       "\n",
       "    user_id event_datetime  amount  \n",
       "19    27835            NaT     NaN  \n",
       "23    27839            NaT     NaN  \n",
       "36    27840            NaT     NaN  \n",
       "38    27845            NaT     NaN  \n",
       "45    27842            NaT     NaN  "
      ]
     },
     "metadata": {},
     "output_type": "display_data"
    },
    {
     "name": "stdout",
     "output_type": "stream",
     "text": [
      "<class 'pandas.core.frame.DataFrame'>\n",
      "Int64Index: 8342 entries, 19 to 66957\n",
      "Data columns (total 8 columns):\n",
      " #   Column          Non-Null Count  Dtype         \n",
      "---  ------          --------------  -----         \n",
      " 0   id              8342 non-null   int64         \n",
      " 1   event_type      8342 non-null   object        \n",
      " 2   selected_level  8342 non-null   object        \n",
      " 3   start_time      8342 non-null   datetime64[ns]\n",
      " 4   tutorial_id     0 non-null      float64       \n",
      " 5   user_id         8342 non-null   int64         \n",
      " 6   event_datetime  0 non-null      datetime64[ns]\n",
      " 7   amount          0 non-null      float64       \n",
      "dtypes: datetime64[ns](2), float64(2), int64(2), object(2)\n",
      "memory usage: 586.5+ KB\n"
     ]
    },
    {
     "data": {
      "text/plain": [
       "None"
      ]
     },
     "metadata": {},
     "output_type": "display_data"
    },
    {
     "data": {
      "text/html": [
       "<div>\n",
       "<style scoped>\n",
       "    .dataframe tbody tr th:only-of-type {\n",
       "        vertical-align: middle;\n",
       "    }\n",
       "\n",
       "    .dataframe tbody tr th {\n",
       "        vertical-align: top;\n",
       "    }\n",
       "\n",
       "    .dataframe thead th {\n",
       "        text-align: right;\n",
       "    }\n",
       "</style>\n",
       "<table border=\"1\" class=\"dataframe\">\n",
       "  <thead>\n",
       "    <tr style=\"text-align: right;\">\n",
       "      <th></th>\n",
       "      <th>id</th>\n",
       "      <th>tutorial_id</th>\n",
       "      <th>user_id</th>\n",
       "      <th>amount</th>\n",
       "    </tr>\n",
       "  </thead>\n",
       "  <tbody>\n",
       "    <tr>\n",
       "      <th>count</th>\n",
       "      <td>8342.000000</td>\n",
       "      <td>0.0</td>\n",
       "      <td>8342.000000</td>\n",
       "      <td>0.0</td>\n",
       "    </tr>\n",
       "    <tr>\n",
       "      <th>mean</th>\n",
       "      <td>113973.378566</td>\n",
       "      <td>NaN</td>\n",
       "      <td>37828.492208</td>\n",
       "      <td>NaN</td>\n",
       "    </tr>\n",
       "    <tr>\n",
       "      <th>std</th>\n",
       "      <td>19397.260408</td>\n",
       "      <td>NaN</td>\n",
       "      <td>5771.799004</td>\n",
       "      <td>NaN</td>\n",
       "    </tr>\n",
       "    <tr>\n",
       "      <th>min</th>\n",
       "      <td>80327.000000</td>\n",
       "      <td>NaN</td>\n",
       "      <td>27835.000000</td>\n",
       "      <td>NaN</td>\n",
       "    </tr>\n",
       "    <tr>\n",
       "      <th>25%</th>\n",
       "      <td>97228.250000</td>\n",
       "      <td>NaN</td>\n",
       "      <td>32882.250000</td>\n",
       "      <td>NaN</td>\n",
       "    </tr>\n",
       "    <tr>\n",
       "      <th>50%</th>\n",
       "      <td>113945.500000</td>\n",
       "      <td>NaN</td>\n",
       "      <td>37747.500000</td>\n",
       "      <td>NaN</td>\n",
       "    </tr>\n",
       "    <tr>\n",
       "      <th>75%</th>\n",
       "      <td>131005.000000</td>\n",
       "      <td>NaN</td>\n",
       "      <td>42873.750000</td>\n",
       "      <td>NaN</td>\n",
       "    </tr>\n",
       "    <tr>\n",
       "      <th>max</th>\n",
       "      <td>147266.000000</td>\n",
       "      <td>NaN</td>\n",
       "      <td>47756.000000</td>\n",
       "      <td>NaN</td>\n",
       "    </tr>\n",
       "  </tbody>\n",
       "</table>\n",
       "</div>"
      ],
      "text/plain": [
       "                  id  tutorial_id       user_id  amount\n",
       "count    8342.000000          0.0   8342.000000     0.0\n",
       "mean   113973.378566          NaN  37828.492208     NaN\n",
       "std     19397.260408          NaN   5771.799004     NaN\n",
       "min     80327.000000          NaN  27835.000000     NaN\n",
       "25%     97228.250000          NaN  32882.250000     NaN\n",
       "50%    113945.500000          NaN  37747.500000     NaN\n",
       "75%    131005.000000          NaN  42873.750000     NaN\n",
       "max    147266.000000          NaN  47756.000000     NaN"
      ]
     },
     "metadata": {},
     "output_type": "display_data"
    }
   ],
   "source": [
    "# Создадим датафрем с полльзователями сделавшими выбор уровня сложности\n",
    "level_choise_users = total_events_df[total_events_df['event_type'] == 'level_choice']\n",
    "\n",
    "# Посмотрим на данные нового датафрейма level_choise_users\n",
    "display(level_choise_users.head())\n",
    "display(level_choise_users.info())\n",
    "display(level_choise_users.describe())"
   ]
  },
  {
   "cell_type": "code",
   "execution_count": 22,
   "metadata": {},
   "outputs": [
    {
     "data": {
      "text/plain": [
       "True"
      ]
     },
     "metadata": {},
     "output_type": "display_data"
    }
   ],
   "source": [
    "# Проверка на то, что на 1 пользователя приходится 1 уровень сложности\n",
    "display(level_choise_users.shape[0] == level_choise_users['user_id'].nunique())\n"
   ]
  },
  {
   "attachments": {},
   "cell_type": "markdown",
   "metadata": {},
   "source": [
    "1. Зависит ли вероятность оплаты от выбранного пользователем уровня сложности?"
   ]
  },
  {
   "cell_type": "code",
   "execution_count": 23,
   "metadata": {},
   "outputs": [
    {
     "data": {
      "text/plain": [
       "'Число пользоветлям по уровням сложности:'"
      ]
     },
     "metadata": {},
     "output_type": "display_data"
    },
    {
     "data": {
      "text/plain": [
       "'Easy: 2448'"
      ]
     },
     "metadata": {},
     "output_type": "display_data"
    },
    {
     "data": {
      "text/plain": [
       "'Medium: 4645'"
      ]
     },
     "metadata": {},
     "output_type": "display_data"
    },
    {
     "data": {
      "text/plain": [
       "'Hard: 1249'"
      ]
     },
     "metadata": {},
     "output_type": "display_data"
    }
   ],
   "source": [
    "# Готовим списки пользователей по уровням easy, medium и hard\n",
    "\n",
    "# easy\n",
    "users_easy_level = level_choise_users[\n",
    "    level_choise_users['selected_level'] == 'easy'\n",
    "]['user_id']\n",
    "display('Число пользоветлям по уровням сложности:')\n",
    "display('Easy: {}'.format(len(users_easy_level)))\n",
    "\n",
    "# medium\n",
    "users_medium_level = level_choise_users[\n",
    "    level_choise_users['selected_level'] == 'medium'\n",
    "]['user_id']\n",
    "display('Medium: {}'.format(len(users_medium_level)))\n",
    "\n",
    "# hard\n",
    "users_hard_level = level_choise_users[\n",
    "    level_choise_users['selected_level'] == 'hard'\n",
    "]['user_id']\n",
    "display('Hard: {}'.format(len(users_hard_level)))"
   ]
  },
  {
   "cell_type": "code",
   "execution_count": 24,
   "metadata": {},
   "outputs": [
    {
     "data": {
      "text/plain": [
       "'Чисило пользователей уровня easy оплативших обучение: 189'"
      ]
     },
     "metadata": {},
     "output_type": "display_data"
    },
    {
     "data": {
      "text/plain": [
       "'% пользователей уровня easy оплативших обучение: 7.72%'"
      ]
     },
     "metadata": {},
     "output_type": "display_data"
    },
    {
     "data": {
      "text/plain": [
       "'% пользователей уровня easy оплатившие обучение от общего числа всех оплативших: 3.17%'"
      ]
     },
     "metadata": {},
     "output_type": "display_data"
    }
   ],
   "source": [
    "# Сколько пользователей уровня easy оплатили обучение?\n",
    "purchase_df_easy = purchase_df[purchase_df[\"user_id\"].isin(users_easy_level)]\n",
    "display('Чисило пользователей уровня easy оплативших обучение: {}'.format(purchase_df_easy.shape[0]))\n",
    "\n",
    "\n",
    "# Какой процент пользователей easy оплачивает обучение?\n",
    "percent_easy_paid = purchase_df_easy.shape[0]/len(users_easy_level)\n",
    "display('% пользователей уровня easy оплативших обучение: {:.2%}'.format(percent_easy_paid))\n",
    "\n",
    "# Сколько % пользователей уровня easy оплатили обучение от общего числа оплативших всех уровней?\n",
    "percent_easy_paid_from_all = purchase_df_easy.shape[0]/purchase['user_id'].nunique()\n",
    "display('% пользователей уровня easy оплатившие обучение от общего числа всех оплативших: {:.2%}'.format(percent_easy_paid_from_all))\n",
    "\n"
   ]
  },
  {
   "cell_type": "code",
   "execution_count": 25,
   "metadata": {},
   "outputs": [
    {
     "data": {
      "text/plain": [
       "'Чисило пользователей уровня medium оплативших обучение: 969'"
      ]
     },
     "metadata": {},
     "output_type": "display_data"
    },
    {
     "data": {
      "text/plain": [
       "'% пользователей уровня medium оплативших обучение: 20.86%'"
      ]
     },
     "metadata": {},
     "output_type": "display_data"
    },
    {
     "data": {
      "text/plain": [
       "'% пользователей уровня medium оплатившие обучение от общего числа всех оплативших: 16.27%'"
      ]
     },
     "metadata": {},
     "output_type": "display_data"
    }
   ],
   "source": [
    "# Сколько пользователей уровня medium оплатили обучение?\n",
    "purchase_df_medium = purchase_df[purchase_df[\"user_id\"].isin(users_medium_level)]\n",
    "display('Чисило пользователей уровня medium оплативших обучение: {}'.format(purchase_df_medium.shape[0]))\n",
    "\n",
    "# Какой процент пользователей medium оплачивает обучение?\n",
    "percent_medium_paid = purchase_df_medium.shape[0]/len(users_medium_level)\n",
    "display('% пользователей уровня medium оплативших обучение: {:.2%}'.format(percent_medium_paid))\n",
    "\n",
    "# Сколько % пользователей уровня medium оплатили обучение от общего числа оплативших всех уровней?\n",
    "percent_medium_paid_from_all = purchase_df_medium.shape[0]/purchase['user_id'].nunique()\n",
    "display('% пользователей уровня medium оплатившие обучение от общего числа всех оплативших: {:.2%}'.format(percent_medium_paid_from_all))"
   ]
  },
  {
   "cell_type": "code",
   "execution_count": 26,
   "metadata": {},
   "outputs": [
    {
     "data": {
      "text/plain": [
       "'Чисило пользователей уровня hard оплативших обучение: 442'"
      ]
     },
     "metadata": {},
     "output_type": "display_data"
    },
    {
     "data": {
      "text/plain": [
       "'% пользователей уровня easy оплативших обучение: 35.39%'"
      ]
     },
     "metadata": {},
     "output_type": "display_data"
    },
    {
     "data": {
      "text/plain": [
       "'% пользователей уровня hard оплатившие обучение от общего числа всех оплативших: 7.42%'"
      ]
     },
     "metadata": {},
     "output_type": "display_data"
    }
   ],
   "source": [
    "# Сколько пользователей уровня hard оплатили обучение?\n",
    "purchase_df_hard = purchase_df[purchase_df[\"user_id\"].isin(users_hard_level)]\n",
    "display('Чисило пользователей уровня hard оплативших обучение: {}'.format(purchase_df_hard.shape[0]))\n",
    "\n",
    "# Какой процент пользователей hard оплачивает обучение?\n",
    "percent_hard_paid = purchase_df_hard.shape[0]/len(users_hard_level)\n",
    "display('% пользователей уровня easy оплативших обучение: {:.2%}'.format(percent_hard_paid))\n",
    "\n",
    "# Сколько % пользователей уровня hard оплатили обучение от общего числа оплативших всех уровней?\n",
    "percent_hard_paid = purchase_df_hard.shape[0]/purchase['user_id'].nunique()\n",
    "display('% пользователей уровня hard оплатившие обучение от общего числа всех оплативших: {:.2%}'.format(percent_hard_paid))"
   ]
  },
  {
   "attachments": {},
   "cell_type": "markdown",
   "metadata": {},
   "source": [
    "ВЫВОДЫ ПО ВОПРОСУ №1\n",
    "\n",
    "1. На уровне easy наблюдается нименщее число пользоватей и наименьщая вероятность опаты, которая составляет 7.72%.\n",
    "\n",
    "2. Наибольшее число пользователей наблюдается на уровне medium, соответсвено основной доход приносит эта группа, пользователи выбравшие уровнеь medium производят оплату с вероятностю 20.86%.\n",
    "\n",
    "3. Пользователи уровня hard производят оплату с наибольшей вероятностью 35.39%.\n",
    "\n",
    "4. Наблюдается прямая зависимость между выбранным уровнем сложности и вероятностью оплаты, чем выше уровень сложности, тем выше вероятность оплаты. Рекомендуется привлекать пользлвтелей на уровень hard(доп бонусами или возможностями) и добавить уровень extra hard, возможно это повысить количествопользователей на уровне hard."
   ]
  },
  {
   "attachments": {},
   "cell_type": "markdown",
   "metadata": {},
   "source": [
    "2. Существует ли разница во времени между событиями регистрации и оплаты для разных групп пользователей с разным уровнем сложности?"
   ]
  },
  {
   "cell_type": "code",
   "execution_count": 42,
   "metadata": {},
   "outputs": [
    {
     "data": {
      "text/html": [
       "<div>\n",
       "<style scoped>\n",
       "    .dataframe tbody tr th:only-of-type {\n",
       "        vertical-align: middle;\n",
       "    }\n",
       "\n",
       "    .dataframe tbody tr th {\n",
       "        vertical-align: top;\n",
       "    }\n",
       "\n",
       "    .dataframe thead th {\n",
       "        text-align: right;\n",
       "    }\n",
       "</style>\n",
       "<table border=\"1\" class=\"dataframe\">\n",
       "  <thead>\n",
       "    <tr style=\"text-align: right;\">\n",
       "      <th></th>\n",
       "      <th>user_id</th>\n",
       "      <th>selected_level</th>\n",
       "      <th>registration_time</th>\n",
       "    </tr>\n",
       "  </thead>\n",
       "  <tbody>\n",
       "    <tr>\n",
       "      <th>0</th>\n",
       "      <td>27832</td>\n",
       "      <td>NaN</td>\n",
       "      <td>2018-01-01 03:48:40</td>\n",
       "    </tr>\n",
       "    <tr>\n",
       "      <th>1</th>\n",
       "      <td>27833</td>\n",
       "      <td>NaN</td>\n",
       "      <td>2018-01-01 04:07:25</td>\n",
       "    </tr>\n",
       "    <tr>\n",
       "      <th>2</th>\n",
       "      <td>27834</td>\n",
       "      <td>NaN</td>\n",
       "      <td>2018-01-01 08:35:10</td>\n",
       "    </tr>\n",
       "    <tr>\n",
       "      <th>3</th>\n",
       "      <td>27835</td>\n",
       "      <td>NaN</td>\n",
       "      <td>2018-01-01 11:54:47</td>\n",
       "    </tr>\n",
       "    <tr>\n",
       "      <th>4</th>\n",
       "      <td>27836</td>\n",
       "      <td>NaN</td>\n",
       "      <td>2018-01-01 13:28:07</td>\n",
       "    </tr>\n",
       "  </tbody>\n",
       "</table>\n",
       "</div>"
      ],
      "text/plain": [
       "   user_id selected_level   registration_time\n",
       "0    27832            NaN 2018-01-01 03:48:40\n",
       "1    27833            NaN 2018-01-01 04:07:25\n",
       "2    27834            NaN 2018-01-01 08:35:10\n",
       "3    27835            NaN 2018-01-01 11:54:47\n",
       "4    27836            NaN 2018-01-01 13:28:07"
      ]
     },
     "execution_count": 42,
     "metadata": {},
     "output_type": "execute_result"
    }
   ],
   "source": [
    "# Создадим датафрем с датой регистрации и уберем лишние стобцы.\n",
    "registration_df = total_events_df[total_events_df['event_type'] == 'registration']\n",
    "\n",
    "registration_df = registration_df[['user_id', 'selected_level', 'start_time']].rename(\n",
    "    columns={\"start_time\": \"registration_time\"})\n",
    "\n",
    "registration_df.head()"
   ]
  },
  {
   "cell_type": "code",
   "execution_count": 55,
   "metadata": {},
   "outputs": [
    {
     "data": {
      "text/html": [
       "<div>\n",
       "<style scoped>\n",
       "    .dataframe tbody tr th:only-of-type {\n",
       "        vertical-align: middle;\n",
       "    }\n",
       "\n",
       "    .dataframe tbody tr th {\n",
       "        vertical-align: top;\n",
       "    }\n",
       "\n",
       "    .dataframe thead th {\n",
       "        text-align: right;\n",
       "    }\n",
       "</style>\n",
       "<table border=\"1\" class=\"dataframe\">\n",
       "  <thead>\n",
       "    <tr style=\"text-align: right;\">\n",
       "      <th></th>\n",
       "      <th>id</th>\n",
       "      <th>user_id</th>\n",
       "      <th>event_datetime</th>\n",
       "      <th>amount</th>\n",
       "    </tr>\n",
       "  </thead>\n",
       "  <tbody>\n",
       "    <tr>\n",
       "      <th>1171</th>\n",
       "      <td>16845</td>\n",
       "      <td>27845</td>\n",
       "      <td>2018-01-03 18:53:43</td>\n",
       "      <td>100</td>\n",
       "    </tr>\n",
       "    <tr>\n",
       "      <th>1172</th>\n",
       "      <td>16846</td>\n",
       "      <td>27865</td>\n",
       "      <td>2018-01-04 14:46:10</td>\n",
       "      <td>250</td>\n",
       "    </tr>\n",
       "    <tr>\n",
       "      <th>1174</th>\n",
       "      <td>16848</td>\n",
       "      <td>27911</td>\n",
       "      <td>2018-01-07 08:19:12</td>\n",
       "      <td>50</td>\n",
       "    </tr>\n",
       "    <tr>\n",
       "      <th>1175</th>\n",
       "      <td>16849</td>\n",
       "      <td>27910</td>\n",
       "      <td>2018-01-07 12:11:34</td>\n",
       "      <td>100</td>\n",
       "    </tr>\n",
       "    <tr>\n",
       "      <th>1176</th>\n",
       "      <td>16850</td>\n",
       "      <td>27940</td>\n",
       "      <td>2018-01-07 13:16:41</td>\n",
       "      <td>200</td>\n",
       "    </tr>\n",
       "  </tbody>\n",
       "</table>\n",
       "</div>"
      ],
      "text/plain": [
       "         id  user_id      event_datetime  amount\n",
       "1171  16845    27845 2018-01-03 18:53:43     100\n",
       "1172  16846    27865 2018-01-04 14:46:10     250\n",
       "1174  16848    27911 2018-01-07 08:19:12      50\n",
       "1175  16849    27910 2018-01-07 12:11:34     100\n",
       "1176  16850    27940 2018-01-07 13:16:41     200"
      ]
     },
     "execution_count": 55,
     "metadata": {},
     "output_type": "execute_result"
    }
   ],
   "source": [
    "purchase_df.head()"
   ]
  },
  {
   "cell_type": "code",
   "execution_count": 57,
   "metadata": {},
   "outputs": [
    {
     "data": {
      "text/html": [
       "<div>\n",
       "<style scoped>\n",
       "    .dataframe tbody tr th:only-of-type {\n",
       "        vertical-align: middle;\n",
       "    }\n",
       "\n",
       "    .dataframe tbody tr th {\n",
       "        vertical-align: top;\n",
       "    }\n",
       "\n",
       "    .dataframe thead th {\n",
       "        text-align: right;\n",
       "    }\n",
       "</style>\n",
       "<table border=\"1\" class=\"dataframe\">\n",
       "  <thead>\n",
       "    <tr style=\"text-align: right;\">\n",
       "      <th></th>\n",
       "      <th>user_id</th>\n",
       "      <th>purchase_time</th>\n",
       "    </tr>\n",
       "  </thead>\n",
       "  <tbody>\n",
       "    <tr>\n",
       "      <th>1171</th>\n",
       "      <td>27845</td>\n",
       "      <td>2018-01-03 18:53:43</td>\n",
       "    </tr>\n",
       "    <tr>\n",
       "      <th>1172</th>\n",
       "      <td>27865</td>\n",
       "      <td>2018-01-04 14:46:10</td>\n",
       "    </tr>\n",
       "    <tr>\n",
       "      <th>1174</th>\n",
       "      <td>27911</td>\n",
       "      <td>2018-01-07 08:19:12</td>\n",
       "    </tr>\n",
       "    <tr>\n",
       "      <th>1175</th>\n",
       "      <td>27910</td>\n",
       "      <td>2018-01-07 12:11:34</td>\n",
       "    </tr>\n",
       "    <tr>\n",
       "      <th>1176</th>\n",
       "      <td>27940</td>\n",
       "      <td>2018-01-07 13:16:41</td>\n",
       "    </tr>\n",
       "  </tbody>\n",
       "</table>\n",
       "</div>"
      ],
      "text/plain": [
       "      user_id       purchase_time\n",
       "1171    27845 2018-01-03 18:53:43\n",
       "1172    27865 2018-01-04 14:46:10\n",
       "1174    27911 2018-01-07 08:19:12\n",
       "1175    27910 2018-01-07 12:11:34\n",
       "1176    27940 2018-01-07 13:16:41"
      ]
     },
     "execution_count": 57,
     "metadata": {},
     "output_type": "execute_result"
    }
   ],
   "source": [
    "# Создадим новый purchace датафрейм для объединения без лишних стобцов.\n",
    "purchase_df2 = purchase_df[[\"user_id\", \"event_datetime\"]].rename(\n",
    "    columns={\"event_datetime\": \"purchase_time\"}\n",
    ")\n",
    "purchase_df2.head()"
   ]
  },
  {
   "cell_type": "code",
   "execution_count": 73,
   "metadata": {},
   "outputs": [
    {
     "data": {
      "text/html": [
       "<div>\n",
       "<style scoped>\n",
       "    .dataframe tbody tr th:only-of-type {\n",
       "        vertical-align: middle;\n",
       "    }\n",
       "\n",
       "    .dataframe tbody tr th {\n",
       "        vertical-align: top;\n",
       "    }\n",
       "\n",
       "    .dataframe thead th {\n",
       "        text-align: right;\n",
       "    }\n",
       "</style>\n",
       "<table border=\"1\" class=\"dataframe\">\n",
       "  <thead>\n",
       "    <tr style=\"text-align: right;\">\n",
       "      <th></th>\n",
       "      <th>user_id</th>\n",
       "      <th>selected_level</th>\n",
       "      <th>registration_time</th>\n",
       "      <th>purchase_time</th>\n",
       "    </tr>\n",
       "  </thead>\n",
       "  <tbody>\n",
       "    <tr>\n",
       "      <th>0</th>\n",
       "      <td>27845</td>\n",
       "      <td>NaN</td>\n",
       "      <td>2018-01-02 01:35:56</td>\n",
       "      <td>2018-01-03 18:53:43</td>\n",
       "    </tr>\n",
       "    <tr>\n",
       "      <th>1</th>\n",
       "      <td>27865</td>\n",
       "      <td>NaN</td>\n",
       "      <td>2018-01-03 11:14:57</td>\n",
       "      <td>2018-01-04 14:46:10</td>\n",
       "    </tr>\n",
       "    <tr>\n",
       "      <th>2</th>\n",
       "      <td>27884</td>\n",
       "      <td>NaN</td>\n",
       "      <td>2018-01-04 11:50:43</td>\n",
       "      <td>2018-01-08 19:37:34</td>\n",
       "    </tr>\n",
       "    <tr>\n",
       "      <th>3</th>\n",
       "      <td>27910</td>\n",
       "      <td>NaN</td>\n",
       "      <td>2018-01-05 10:45:33</td>\n",
       "      <td>2018-01-07 12:11:34</td>\n",
       "    </tr>\n",
       "    <tr>\n",
       "      <th>4</th>\n",
       "      <td>27911</td>\n",
       "      <td>NaN</td>\n",
       "      <td>2018-01-05 10:48:24</td>\n",
       "      <td>2018-01-07 08:19:12</td>\n",
       "    </tr>\n",
       "  </tbody>\n",
       "</table>\n",
       "</div>"
      ],
      "text/plain": [
       "   user_id selected_level   registration_time       purchase_time\n",
       "0    27845            NaN 2018-01-02 01:35:56 2018-01-03 18:53:43\n",
       "1    27865            NaN 2018-01-03 11:14:57 2018-01-04 14:46:10\n",
       "2    27884            NaN 2018-01-04 11:50:43 2018-01-08 19:37:34\n",
       "3    27910            NaN 2018-01-05 10:45:33 2018-01-07 12:11:34\n",
       "4    27911            NaN 2018-01-05 10:48:24 2018-01-07 08:19:12"
      ]
     },
     "metadata": {},
     "output_type": "display_data"
    }
   ],
   "source": [
    "# Объединяю датафрем с датой регистрации и датой покупки по user_id\n",
    "merged_df = registration_df.merge(\n",
    "    purchase_df2, on='user_id', how='inner'\n",
    ")\n",
    "display(merged_df.head())"
   ]
  },
  {
   "cell_type": "code",
   "execution_count": 76,
   "metadata": {},
   "outputs": [
    {
     "data": {
      "text/html": [
       "<div>\n",
       "<style scoped>\n",
       "    .dataframe tbody tr th:only-of-type {\n",
       "        vertical-align: middle;\n",
       "    }\n",
       "\n",
       "    .dataframe tbody tr th {\n",
       "        vertical-align: top;\n",
       "    }\n",
       "\n",
       "    .dataframe thead th {\n",
       "        text-align: right;\n",
       "    }\n",
       "</style>\n",
       "<table border=\"1\" class=\"dataframe\">\n",
       "  <thead>\n",
       "    <tr style=\"text-align: right;\">\n",
       "      <th></th>\n",
       "      <th>user_id</th>\n",
       "      <th>selected_level</th>\n",
       "      <th>registration_time</th>\n",
       "      <th>purchase_time</th>\n",
       "      <th>timedelta</th>\n",
       "    </tr>\n",
       "  </thead>\n",
       "  <tbody>\n",
       "    <tr>\n",
       "      <th>0</th>\n",
       "      <td>27845</td>\n",
       "      <td>NaN</td>\n",
       "      <td>2018-01-02 01:35:56</td>\n",
       "      <td>2018-01-03 18:53:43</td>\n",
       "      <td>1 days 17:17:47</td>\n",
       "    </tr>\n",
       "    <tr>\n",
       "      <th>1</th>\n",
       "      <td>27865</td>\n",
       "      <td>NaN</td>\n",
       "      <td>2018-01-03 11:14:57</td>\n",
       "      <td>2018-01-04 14:46:10</td>\n",
       "      <td>1 days 03:31:13</td>\n",
       "    </tr>\n",
       "    <tr>\n",
       "      <th>2</th>\n",
       "      <td>27884</td>\n",
       "      <td>NaN</td>\n",
       "      <td>2018-01-04 11:50:43</td>\n",
       "      <td>2018-01-08 19:37:34</td>\n",
       "      <td>4 days 07:46:51</td>\n",
       "    </tr>\n",
       "    <tr>\n",
       "      <th>3</th>\n",
       "      <td>27910</td>\n",
       "      <td>NaN</td>\n",
       "      <td>2018-01-05 10:45:33</td>\n",
       "      <td>2018-01-07 12:11:34</td>\n",
       "      <td>2 days 01:26:01</td>\n",
       "    </tr>\n",
       "    <tr>\n",
       "      <th>4</th>\n",
       "      <td>27911</td>\n",
       "      <td>NaN</td>\n",
       "      <td>2018-01-05 10:48:24</td>\n",
       "      <td>2018-01-07 08:19:12</td>\n",
       "      <td>1 days 21:30:48</td>\n",
       "    </tr>\n",
       "  </tbody>\n",
       "</table>\n",
       "</div>"
      ],
      "text/plain": [
       "   user_id selected_level   registration_time       purchase_time  \\\n",
       "0    27845            NaN 2018-01-02 01:35:56 2018-01-03 18:53:43   \n",
       "1    27865            NaN 2018-01-03 11:14:57 2018-01-04 14:46:10   \n",
       "2    27884            NaN 2018-01-04 11:50:43 2018-01-08 19:37:34   \n",
       "3    27910            NaN 2018-01-05 10:45:33 2018-01-07 12:11:34   \n",
       "4    27911            NaN 2018-01-05 10:48:24 2018-01-07 08:19:12   \n",
       "\n",
       "        timedelta  \n",
       "0 1 days 17:17:47  \n",
       "1 1 days 03:31:13  \n",
       "2 4 days 07:46:51  \n",
       "3 2 days 01:26:01  \n",
       "4 1 days 21:30:48  "
      ]
     },
     "execution_count": 76,
     "metadata": {},
     "output_type": "execute_result"
    }
   ],
   "source": [
    "# Построчно посчитаем временой интервал от регистрации до покупки и занесем с столбик timedelta\n",
    "merged_df[\"timedelta\"] = (\n",
    "    merged_df[\"purchase_time\"] - merged_df[\"registration_time\"]\n",
    ")\n",
    "merged_df.head()"
   ]
  },
  {
   "attachments": {},
   "cell_type": "markdown",
   "metadata": {},
   "source": [
    "Посчитаем время от регистрации до оплаты по группам разбитым на разные уровни сложности: easy, medium, hard"
   ]
  },
  {
   "cell_type": "code",
   "execution_count": 83,
   "metadata": {},
   "outputs": [
    {
     "data": {
      "text/html": [
       "<div>\n",
       "<style scoped>\n",
       "    .dataframe tbody tr th:only-of-type {\n",
       "        vertical-align: middle;\n",
       "    }\n",
       "\n",
       "    .dataframe tbody tr th {\n",
       "        vertical-align: top;\n",
       "    }\n",
       "\n",
       "    .dataframe thead th {\n",
       "        text-align: right;\n",
       "    }\n",
       "</style>\n",
       "<table border=\"1\" class=\"dataframe\">\n",
       "  <thead>\n",
       "    <tr style=\"text-align: right;\">\n",
       "      <th></th>\n",
       "      <th>user_id</th>\n",
       "      <th>timedelta</th>\n",
       "    </tr>\n",
       "  </thead>\n",
       "  <tbody>\n",
       "    <tr>\n",
       "      <th>count</th>\n",
       "      <td>189.000000</td>\n",
       "      <td>189</td>\n",
       "    </tr>\n",
       "    <tr>\n",
       "      <th>mean</th>\n",
       "      <td>38083.476190</td>\n",
       "      <td>3 days 22:10:23.211640211</td>\n",
       "    </tr>\n",
       "    <tr>\n",
       "      <th>std</th>\n",
       "      <td>6160.867379</td>\n",
       "      <td>2 days 07:14:41.062010764</td>\n",
       "    </tr>\n",
       "    <tr>\n",
       "      <th>min</th>\n",
       "      <td>27884.000000</td>\n",
       "      <td>0 days 04:36:58</td>\n",
       "    </tr>\n",
       "    <tr>\n",
       "      <th>25%</th>\n",
       "      <td>32645.000000</td>\n",
       "      <td>2 days 01:12:12</td>\n",
       "    </tr>\n",
       "    <tr>\n",
       "      <th>50%</th>\n",
       "      <td>37658.000000</td>\n",
       "      <td>3 days 11:00:23</td>\n",
       "    </tr>\n",
       "    <tr>\n",
       "      <th>75%</th>\n",
       "      <td>43870.000000</td>\n",
       "      <td>5 days 10:24:59</td>\n",
       "    </tr>\n",
       "    <tr>\n",
       "      <th>max</th>\n",
       "      <td>47687.000000</td>\n",
       "      <td>11 days 00:35:04</td>\n",
       "    </tr>\n",
       "  </tbody>\n",
       "</table>\n",
       "</div>"
      ],
      "text/plain": [
       "            user_id                  timedelta\n",
       "count    189.000000                        189\n",
       "mean   38083.476190  3 days 22:10:23.211640211\n",
       "std     6160.867379  2 days 07:14:41.062010764\n",
       "min    27884.000000            0 days 04:36:58\n",
       "25%    32645.000000            2 days 01:12:12\n",
       "50%    37658.000000            3 days 11:00:23\n",
       "75%    43870.000000            5 days 10:24:59\n",
       "max    47687.000000           11 days 00:35:04"
      ]
     },
     "execution_count": 83,
     "metadata": {},
     "output_type": "execute_result"
    }
   ],
   "source": [
    "# easy\n",
    "merged_df[merged_df['user_id'].isin(purchase_df_easy['user_id'])].describe()"
   ]
  },
  {
   "cell_type": "code",
   "execution_count": 84,
   "metadata": {},
   "outputs": [
    {
     "data": {
      "text/html": [
       "<div>\n",
       "<style scoped>\n",
       "    .dataframe tbody tr th:only-of-type {\n",
       "        vertical-align: middle;\n",
       "    }\n",
       "\n",
       "    .dataframe tbody tr th {\n",
       "        vertical-align: top;\n",
       "    }\n",
       "\n",
       "    .dataframe thead th {\n",
       "        text-align: right;\n",
       "    }\n",
       "</style>\n",
       "<table border=\"1\" class=\"dataframe\">\n",
       "  <thead>\n",
       "    <tr style=\"text-align: right;\">\n",
       "      <th></th>\n",
       "      <th>user_id</th>\n",
       "      <th>timedelta</th>\n",
       "    </tr>\n",
       "  </thead>\n",
       "  <tbody>\n",
       "    <tr>\n",
       "      <th>count</th>\n",
       "      <td>969.000000</td>\n",
       "      <td>969</td>\n",
       "    </tr>\n",
       "    <tr>\n",
       "      <th>mean</th>\n",
       "      <td>37740.134159</td>\n",
       "      <td>4 days 06:12:06.576883384</td>\n",
       "    </tr>\n",
       "    <tr>\n",
       "      <th>std</th>\n",
       "      <td>5731.786288</td>\n",
       "      <td>2 days 06:25:57.480868026</td>\n",
       "    </tr>\n",
       "    <tr>\n",
       "      <th>min</th>\n",
       "      <td>27973.000000</td>\n",
       "      <td>0 days 08:39:24</td>\n",
       "    </tr>\n",
       "    <tr>\n",
       "      <th>25%</th>\n",
       "      <td>32896.000000</td>\n",
       "      <td>2 days 08:46:51</td>\n",
       "    </tr>\n",
       "    <tr>\n",
       "      <th>50%</th>\n",
       "      <td>37533.000000</td>\n",
       "      <td>4 days 03:35:26</td>\n",
       "    </tr>\n",
       "    <tr>\n",
       "      <th>75%</th>\n",
       "      <td>42980.000000</td>\n",
       "      <td>5 days 23:51:27</td>\n",
       "    </tr>\n",
       "    <tr>\n",
       "      <th>max</th>\n",
       "      <td>47742.000000</td>\n",
       "      <td>10 days 20:34:02</td>\n",
       "    </tr>\n",
       "  </tbody>\n",
       "</table>\n",
       "</div>"
      ],
      "text/plain": [
       "            user_id                  timedelta\n",
       "count    969.000000                        969\n",
       "mean   37740.134159  4 days 06:12:06.576883384\n",
       "std     5731.786288  2 days 06:25:57.480868026\n",
       "min    27973.000000            0 days 08:39:24\n",
       "25%    32896.000000            2 days 08:46:51\n",
       "50%    37533.000000            4 days 03:35:26\n",
       "75%    42980.000000            5 days 23:51:27\n",
       "max    47742.000000           10 days 20:34:02"
      ]
     },
     "execution_count": 84,
     "metadata": {},
     "output_type": "execute_result"
    }
   ],
   "source": [
    "# medium\n",
    "merged_df[merged_df['user_id'].isin(purchase_df_medium['user_id'])].describe()"
   ]
  },
  {
   "cell_type": "code",
   "execution_count": 85,
   "metadata": {},
   "outputs": [
    {
     "data": {
      "text/html": [
       "<div>\n",
       "<style scoped>\n",
       "    .dataframe tbody tr th:only-of-type {\n",
       "        vertical-align: middle;\n",
       "    }\n",
       "\n",
       "    .dataframe tbody tr th {\n",
       "        vertical-align: top;\n",
       "    }\n",
       "\n",
       "    .dataframe thead th {\n",
       "        text-align: right;\n",
       "    }\n",
       "</style>\n",
       "<table border=\"1\" class=\"dataframe\">\n",
       "  <thead>\n",
       "    <tr style=\"text-align: right;\">\n",
       "      <th></th>\n",
       "      <th>user_id</th>\n",
       "      <th>timedelta</th>\n",
       "    </tr>\n",
       "  </thead>\n",
       "  <tbody>\n",
       "    <tr>\n",
       "      <th>count</th>\n",
       "      <td>442.000000</td>\n",
       "      <td>442</td>\n",
       "    </tr>\n",
       "    <tr>\n",
       "      <th>mean</th>\n",
       "      <td>37639.047511</td>\n",
       "      <td>3 days 14:55:19.257918552</td>\n",
       "    </tr>\n",
       "    <tr>\n",
       "      <th>std</th>\n",
       "      <td>5879.821921</td>\n",
       "      <td>1 days 22:22:52.441896774</td>\n",
       "    </tr>\n",
       "    <tr>\n",
       "      <th>min</th>\n",
       "      <td>27845.000000</td>\n",
       "      <td>0 days 09:41:39</td>\n",
       "    </tr>\n",
       "    <tr>\n",
       "      <th>25%</th>\n",
       "      <td>32564.500000</td>\n",
       "      <td>1 days 23:36:25.500000</td>\n",
       "    </tr>\n",
       "    <tr>\n",
       "      <th>50%</th>\n",
       "      <td>37739.000000</td>\n",
       "      <td>3 days 10:10:04.500000</td>\n",
       "    </tr>\n",
       "    <tr>\n",
       "      <th>75%</th>\n",
       "      <td>42798.500000</td>\n",
       "      <td>5 days 03:30:07.750000</td>\n",
       "    </tr>\n",
       "    <tr>\n",
       "      <th>max</th>\n",
       "      <td>47577.000000</td>\n",
       "      <td>8 days 14:21:29</td>\n",
       "    </tr>\n",
       "  </tbody>\n",
       "</table>\n",
       "</div>"
      ],
      "text/plain": [
       "            user_id                  timedelta\n",
       "count    442.000000                        442\n",
       "mean   37639.047511  3 days 14:55:19.257918552\n",
       "std     5879.821921  1 days 22:22:52.441896774\n",
       "min    27845.000000            0 days 09:41:39\n",
       "25%    32564.500000     1 days 23:36:25.500000\n",
       "50%    37739.000000     3 days 10:10:04.500000\n",
       "75%    42798.500000     5 days 03:30:07.750000\n",
       "max    47577.000000            8 days 14:21:29"
      ]
     },
     "execution_count": 85,
     "metadata": {},
     "output_type": "execute_result"
    }
   ],
   "source": [
    "# hard\n",
    "merged_df[merged_df['user_id'].isin(purchase_df_hard['user_id'])].describe()"
   ]
  },
  {
   "attachments": {},
   "cell_type": "markdown",
   "metadata": {},
   "source": [
    "1. Пользователи группы easy в среднем после регистрации производят оплату через 3 дня 22 ч и 10 мин.\n",
    "2. Пользователи группы medium в среднем после регистрации производят оплату через 4 дня 6 ч и 12 мин.\n",
    "3. Пользователи группы hard в среднем после регистрации производят оплату через 3 дня 14 ч и 55 мин.\n",
    "Разница между группами небольшая, наиболее быстро производит оплату группа hard."
   ]
  },
  {
   "attachments": {},
   "cell_type": "markdown",
   "metadata": {},
   "source": [
    "ВЫВОДЫ ПО ВОПРОСАМ:"
   ]
  },
  {
   "attachments": {},
   "cell_type": "markdown",
   "metadata": {},
   "source": [
    "1. Вероятность опалты напрямуб зависит от выбранного уровня сложности: easy - 7,72%, medium - 20,86%, hard - 35,39%. При этом группа medium самой многочисленной.\n",
    "2. Существует разница во времени в скорости оплаты с момонета регистрации для разных групп пользователей, но при этом разница не сущетсвенная и не наблюдается зависимости скорости опалты от уровня сложности."
   ]
  },
  {
   "attachments": {},
   "cell_type": "markdown",
   "metadata": {},
   "source": [
    "РЕКОМЕНДАЦИИ:\n",
    "1. Повысить привлекателньость уровня hard (дополнительные бонусы или другое). \n",
    "2. Добавить уровень сложности Extra hard как стимул регистрироваться на уровне hard, большему числу пользователей.\n",
    "3. Проанализировать поэтапно скорость прохождения пути от регистрации до оплаты на разных уровнях, для выявления самых долгих этапов."
   ]
  }
 ],
 "metadata": {
  "kernelspec": {
   "display_name": "Python 3",
   "language": "python",
   "name": "python3"
  },
  "language_info": {
   "codemirror_mode": {
    "name": "ipython",
    "version": 3
   },
   "file_extension": ".py",
   "mimetype": "text/x-python",
   "name": "python",
   "nbconvert_exporter": "python",
   "pygments_lexer": "ipython3",
   "version": "3.11.1"
  },
  "orig_nbformat": 4,
  "vscode": {
   "interpreter": {
    "hash": "f207a5b7d09095e2d76cb1d3c0d103b23860313712ceb8fd0d39bd78ab4f0cde"
   }
  }
 },
 "nbformat": 4,
 "nbformat_minor": 2
}
